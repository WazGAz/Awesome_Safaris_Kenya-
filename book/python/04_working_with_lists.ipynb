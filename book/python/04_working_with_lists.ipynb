{
  "cells": [
    {
      "cell_type": "markdown",
      "id": "128f1e74",
      "metadata": {
        "id": "128f1e74"
      },
      "source": [
        "# Working with Lists\n",
        "\n",
        "```{contents}\n",
        ":local:\n",
        ":depth: 2\n",
        "```\n",
        "\n",
        "In this lecture you’ll learn how to loop through an entire list using just a few lines of code regardless of how long the list is. Looping allows you to take the same action, or set of actions, with every item in a list. As a result, you’ll be able to work efficiently with lists of any length, including those with thousands or even millions of items.\n",
        "\n",
        "- [Looping Through an Entire List](#what-is-a-list)\n",
        "- [Avoiding Indentation Errors](#changing-elements)\n",
        "- [Making Numerical Lists](#organizing-a-list)\n",
        "- [Working with Part of a List](#avoiding-index-errors)\n",
        "- [Tuples](#organizing-a-list)\n",
        "- [Styling Your Code](#avoiding-index-errors)\n",
        "\n",
        "## Looping Through an Entire List\n",
        "\n",
        "You’ll often want to run through all entries in a list, performing the same task with each item. For example, in a game you might want to move every element on the screen by the same amount, or in a list of numbers you might want to perform the same statistical operation on every element. Or perhaps you’ll want to display each headline from a list of articles on a website. When you want to do the same action with every item in a list, you can use Python’s for loop.\n",
        "Let’s say we have a list of magicians’ names, and we want to print out each name in the list. We could do this by retrieving each name from the list individually, but this approach could cause several problems. For one, it would be repetitive to do this with a long list of names. Also, we’d have to change our code each time the list’s length changed. A for loop avoids both of these issues by letting Python manage these issues internally. Let’s use a for loop to print out each name in a list of magicians:"
      ]
    },
    {
      "cell_type": "code",
      "execution_count": 1,
      "id": "e00e631d",
      "metadata": {
        "colab": {
          "base_uri": "https://localhost:8080/"
        },
        "id": "e00e631d",
        "outputId": "289614cc-9148-4048-b534-a68a5b3964c6"
      },
      "outputs": [
        {
          "output_type": "stream",
          "name": "stdout",
          "text": [
            "alice\n",
            "david\n",
            "carolina\n"
          ]
        }
      ],
      "source": [
        "magicians = ['alice', 'david', 'carolina']\n",
        "for magician in magicians:\n",
        "    print(magician)"
      ]
    },
    {
      "cell_type": "markdown",
      "id": "c0e449e8",
      "metadata": {
        "id": "c0e449e8"
      },
      "source": [
        "When you’re using loops for the first time, keep in mind that the set of steps is repeated once for each item in the list, no matter how many items are in the list. If you have a million items in your list, Python repeats these steps a million times—and usually very quickly. Also keep in mind when writing your own for loops that you can choose any name you want for the temporary variable that will be associated with each value in the list. However, it’s helpful to choose a meaningful name that represents a single item from the list.\n",
        "\n",
        "These naming conventions can help you follow the action being done on each item within a for loop. Using singular and plural names can help you identify whether a section of code is working with a single element from the list or the entire list.\n",
        "\n",
        "### Doing More Work Within a for Loop\n",
        "\n",
        "You can do just about anything with each item in a for loop. Let’s build on the previous example by printing a message to each magician, telling them that they performed a great trick:"
      ]
    },
    {
      "cell_type": "code",
      "execution_count": 2,
      "id": "063367b1",
      "metadata": {
        "colab": {
          "base_uri": "https://localhost:8080/"
        },
        "id": "063367b1",
        "outputId": "a89ddae0-cc7d-4916-a6d1-a2a298e155c1"
      },
      "outputs": [
        {
          "output_type": "stream",
          "name": "stdout",
          "text": [
            "Alice, that was a great trick!\n",
            "David, that was a great trick!\n",
            "Carolina, that was a great trick!\n"
          ]
        }
      ],
      "source": [
        "magicians = ['alice', 'david', 'carolina']\n",
        "for magician in magicians:\n",
        "    print(f\"{magician.title()}, that was a great trick!\")"
      ]
    },
    {
      "cell_type": "code",
      "execution_count": 3,
      "id": "2f5e7a86",
      "metadata": {
        "colab": {
          "base_uri": "https://localhost:8080/"
        },
        "id": "2f5e7a86",
        "outputId": "8806889c-8be6-44e5-abed-77797c8f2fda"
      },
      "outputs": [
        {
          "output_type": "stream",
          "name": "stdout",
          "text": [
            "Alice, that was a great trick!\n",
            "I can't wait to see your next trick, Alice.\n",
            "\n",
            "David, that was a great trick!\n",
            "I can't wait to see your next trick, David.\n",
            "\n",
            "Carolina, that was a great trick!\n",
            "I can't wait to see your next trick, Carolina.\n",
            "\n"
          ]
        }
      ],
      "source": [
        "magicians = ['alice', 'david', 'carolina']\n",
        "for magician in magicians:\n",
        "    print(f\"{magician.title()}, that was a great trick!\")\n",
        "    print(f\"I can't wait to see your next trick, {magician.title()}.\\n\")"
      ]
    },
    {
      "cell_type": "markdown",
      "id": "8d323763",
      "metadata": {
        "id": "8d323763"
      },
      "source": [
        "### Doing Something After a for Loop\n",
        "\n",
        "What happens once a for loop has finished executing? Usually, you’ll want to summarize a block of output or move on to other work that your program must accomplish. Any lines of code after the for loop that are not indented are executed once without repetition. Let’s write a thank you to the group of magicians as a whole, thanking them for putting on an excellent show. To display this group message after all of the individual messages have been printed, we place the thank you message after the for loop without indentation:"
      ]
    },
    {
      "cell_type": "code",
      "execution_count": 4,
      "id": "b8b7f92f",
      "metadata": {
        "colab": {
          "base_uri": "https://localhost:8080/"
        },
        "id": "b8b7f92f",
        "outputId": "ad17d627-847d-42ee-ae85-ff730bee63b9"
      },
      "outputs": [
        {
          "output_type": "stream",
          "name": "stdout",
          "text": [
            "Alice, that was a great trick!\n",
            "I can't wait to see your next trick, Alice.\n",
            "\n",
            "David, that was a great trick!\n",
            "I can't wait to see your next trick, David.\n",
            "\n",
            "Carolina, that was a great trick!\n",
            "I can't wait to see your next trick, Carolina.\n",
            "\n",
            "Thank you, everyone. That was a great magic show!\n"
          ]
        }
      ],
      "source": [
        "magicians = ['alice', 'david', 'carolina']\n",
        "for magician in magicians:\n",
        "    print(f\"{magician.title()}, that was a great trick!\")\n",
        "    print(f\"I can't wait to see your next trick, {magician.title()}.\\n\")\n",
        "\n",
        "print(\"Thank you, everyone. That was a great magic show!\")"
      ]
    },
    {
      "cell_type": "markdown",
      "id": "089dd8e9",
      "metadata": {
        "id": "089dd8e9"
      },
      "source": [
        "## Avoiding Indentation Errors\n",
        "\n",
        "Python uses indentation to determine how a line, or group of lines, is related to the rest of the program. In the previous examples, the lines that printed messages to individual magicians were part of the for loop because they were indented. Python’s use of indentation makes code very easy to read. Basically, it uses whitespace to force you to write neatly formatted code with a clear visual structure. In longer Python programs, you’ll notice blocks of code indented at a few different levels. These indentation levels help you gain a general sense of the overall program’s organization.\n",
        "\n",
        "As you begin to write code that relies on proper indentation, you’ll need to watch for a few common indentation errors. For example, people sometimes indent lines of code that don’t need to be indented or forget to indent lines that need to be indented. Seeing examples of these errors now will help you avoid them in the future and correct them when they do appear in your own programs.\n",
        "\n",
        "Let’s examine some of the more common indentation errors.\n",
        "\n",
        "### Forgetting to Indent\n",
        "\n",
        "Always indent the line after the for statement in a loop. If you forget, Python will remind you:"
      ]
    },
    {
      "cell_type": "code",
      "execution_count": 5,
      "id": "edaaac81",
      "metadata": {
        "id": "edaaac81"
      },
      "outputs": [],
      "source": [
        "magicians = ['alice', 'david', 'carolina']\n",
        "# for magician in magicians:\n",
        "# print(magician)"
      ]
    },
    {
      "cell_type": "markdown",
      "id": "65008f7d",
      "metadata": {
        "id": "65008f7d"
      },
      "source": [
        "### Forgetting to Indent Additional Lines\n",
        "\n",
        "Sometimes your loop will run without any errors but won’t produce the expected result. This can happen when you’re trying to do several tasks in a loop and you forget to indent some of its lines. For example, this is what happens when we forget to indent the second line in the loop that tells each magician we’re looking forward to their next trick:"
      ]
    },
    {
      "cell_type": "code",
      "execution_count": 8,
      "id": "12586f54",
      "metadata": {
        "colab": {
          "base_uri": "https://localhost:8080/"
        },
        "id": "12586f54",
        "outputId": "ee5e56dd-273d-4d9b-ab07-cacd40f95555"
      },
      "outputs": [
        {
          "output_type": "stream",
          "name": "stdout",
          "text": [
            "Alice, that was a great trick!\n",
            "David, that was a great trick!\n",
            "Carolina, that was a great trick!\n",
            "I can't wait to see your next trick, Carolina.\n",
            "\n"
          ]
        }
      ],
      "source": [
        "magicians = ['alice', 'david', 'carolina']\n",
        "for magician in magicians:\n",
        "    print(f\"{magician.title()}, that was a great trick!\")\n",
        "print(f\"I can't wait to see your next trick, {magician.title()}.\\n\")"
      ]
    },
    {
      "cell_type": "markdown",
      "id": "1b1576a6",
      "metadata": {
        "id": "1b1576a6"
      },
      "source": [
        "### Indenting Unnecessarily\n",
        "\n",
        "If you accidentally indent a line that doesn’t need to be indented, Python informs you about the unexpected indent:"
      ]
    },
    {
      "cell_type": "code",
      "execution_count": 11,
      "id": "f8a5be9e",
      "metadata": {
        "colab": {
          "base_uri": "https://localhost:8080/"
        },
        "id": "f8a5be9e",
        "outputId": "afbd275b-dea8-4829-98ea-0eec03650f73"
      },
      "outputs": [
        {
          "output_type": "stream",
          "name": "stdout",
          "text": [
            "Hello Python world!\n"
          ]
        }
      ],
      "source": [
        "message = \"Hello Python world!\"\n",
        "print(message)"
      ]
    },
    {
      "cell_type": "markdown",
      "id": "0b12ce93",
      "metadata": {
        "id": "0b12ce93"
      },
      "source": [
        "### Indenting Unnecessarily\n",
        "\n",
        "After the Loop If you accidentally indent code that should run after a loop has finished, that code will be repeated once for each item in the list. Sometimes this prompts Python to report an error, but often this will result in a logical error. For example, let’s see what happens when we accidentally indent the line that thanked the magicians as a group for putting on a good show:"
      ]
    },
    {
      "cell_type": "code",
      "execution_count": 13,
      "id": "ba42fb5e",
      "metadata": {
        "colab": {
          "base_uri": "https://localhost:8080/"
        },
        "id": "ba42fb5e",
        "outputId": "6855d18f-a42b-4704-eec2-aa306d580ae9"
      },
      "outputs": [
        {
          "output_type": "stream",
          "name": "stdout",
          "text": [
            "Alice, that was a great trick!\n",
            "I can't wait to see your next trick, Alice.\n",
            "\n",
            "David, that was a great trick!\n",
            "I can't wait to see your next trick, David.\n",
            "\n",
            "Carolina, that was a great trick!\n",
            "I can't wait to see your next trick, Carolina.\n",
            "\n",
            "Thank you everyone, that was a great magic show!\n"
          ]
        }
      ],
      "source": [
        "magicians = ['alice', 'david', 'carolina']\n",
        "for magician in magicians:\n",
        "    print(f\"{magician.title()}, that was a great trick!\")\n",
        "    print(f\"I can't wait to see your next trick, {magician.title()}.\\n\")\n",
        "\n",
        "print(\"Thank you everyone, that was a great magic show!\")"
      ]
    },
    {
      "cell_type": "markdown",
      "id": "7bf0fcfb",
      "metadata": {
        "id": "7bf0fcfb"
      },
      "source": [
        "How to print element index and content together?"
      ]
    },
    {
      "cell_type": "code",
      "execution_count": 14,
      "id": "f85466c2",
      "metadata": {
        "colab": {
          "base_uri": "https://localhost:8080/"
        },
        "id": "f85466c2",
        "outputId": "975270c3-5ee6-4510-9d71-29dd992e65b4"
      },
      "outputs": [
        {
          "output_type": "stream",
          "name": "stdout",
          "text": [
            "0: alice\n",
            "1: david\n",
            "2: carolina\n"
          ]
        }
      ],
      "source": [
        "magicians = ['alice', 'david', 'carolina']\n",
        "for index, magician in enumerate(magicians):\n",
        "    print(f\"{index}: {magician}\")"
      ]
    },
    {
      "cell_type": "markdown",
      "id": "e9d6165c",
      "metadata": {
        "id": "e9d6165c"
      },
      "source": [
        "### Forgetting the Colon\n",
        "\n",
        "The colon at the end of a for statement tells Python to interpret the next line as the start of a loop."
      ]
    },
    {
      "cell_type": "code",
      "execution_count": 17,
      "id": "cb44a036",
      "metadata": {
        "colab": {
          "base_uri": "https://localhost:8080/"
        },
        "id": "cb44a036",
        "outputId": "208a6a0e-149a-48c0-a97a-2bcd54305317"
      },
      "outputs": [
        {
          "output_type": "stream",
          "name": "stdout",
          "text": [
            "alice\n",
            "david\n",
            "carolina\n"
          ]
        }
      ],
      "source": [
        "magicians = ['alice', 'david', 'carolina']\n",
        "for magician in magicians:\n",
        "  print(magician)"
      ]
    },
    {
      "cell_type": "markdown",
      "id": "b5528a34",
      "metadata": {
        "id": "b5528a34"
      },
      "source": [
        "## Making Numerical Lists\n",
        "\n",
        "Many reasons exist to store a set of numbers. For example, you’ll need to keep track of the positions of each character in a game, and you might want to keep track of a player’s high scores as well. In data visualizations, you’ll almost always work with sets of numbers, such as temperatures, distances, population sizes, or latitude and longitude values, among other types of numerical sets.\n",
        "\n",
        "Lists are ideal for storing sets of numbers, and Python provides a variety of tools to help you work efficiently with lists of numbers. Once you understand how to use these tools effectively, your code will work well even when your lists contain millions of items.\n",
        "\n",
        "### Using the range() Function\n",
        "\n",
        "Python’s range() function makes it easy to generate a series of numbers. For example, you can use the range() function to print a series of numbers like this:"
      ]
    },
    {
      "cell_type": "code",
      "execution_count": 18,
      "id": "5a18ac74",
      "metadata": {
        "colab": {
          "base_uri": "https://localhost:8080/"
        },
        "id": "5a18ac74",
        "outputId": "4293b49b-56f9-4433-c1c0-e5973a7bc8be"
      },
      "outputs": [
        {
          "output_type": "stream",
          "name": "stdout",
          "text": [
            "1\n",
            "2\n",
            "3\n",
            "4\n"
          ]
        }
      ],
      "source": [
        "for value in range(1, 5):\n",
        "    print(value)"
      ]
    },
    {
      "cell_type": "markdown",
      "id": "c6c184c9",
      "metadata": {
        "id": "c6c184c9"
      },
      "source": [
        "In this example, range() prints only the numbers 1 through 4. This is another result of the off-by-one behavior you’ll see often in programming languages. The range() function causes Python to start counting at the first value you give it, and it stops when it reaches the second value you provide. Because it stops at that second value, the output never contains the end value, which would have been 5 in this case."
      ]
    },
    {
      "cell_type": "code",
      "execution_count": 20,
      "id": "34ff9f26",
      "metadata": {
        "colab": {
          "base_uri": "https://localhost:8080/"
        },
        "id": "34ff9f26",
        "outputId": "356dcf0c-beb4-4753-8499-1ea1d9bcdac1"
      },
      "outputs": [
        {
          "output_type": "stream",
          "name": "stdout",
          "text": [
            "1\n",
            "2\n",
            "3\n",
            "4\n",
            "5\n"
          ]
        }
      ],
      "source": [
        "for value in range(1, 6):\n",
        "    print(value)"
      ]
    },
    {
      "cell_type": "markdown",
      "id": "6dd29e2e",
      "metadata": {
        "id": "6dd29e2e"
      },
      "source": [
        "### Using range() to Make a List of Numbers\n",
        "\n",
        "If you want to make a list of numbers, you can convert the results of range() directly into a list using the list() function. When you wrap list() around a call to the range() function, the output will be a list of numbers. In the example in the previous section, we simply printed out a series of numbers. We can use list() to convert that same set of numbers into a list:"
      ]
    },
    {
      "cell_type": "code",
      "execution_count": 21,
      "id": "c5ecaff5",
      "metadata": {
        "colab": {
          "base_uri": "https://localhost:8080/"
        },
        "id": "c5ecaff5",
        "outputId": "719c775f-dbdd-43dd-ea88-268fc38df20e"
      },
      "outputs": [
        {
          "output_type": "stream",
          "name": "stdout",
          "text": [
            "[1, 2, 3, 4, 5]\n"
          ]
        }
      ],
      "source": [
        "numbers = list(range(1, 6))\n",
        "print(numbers)"
      ]
    },
    {
      "cell_type": "markdown",
      "id": "61894b98",
      "metadata": {
        "id": "61894b98"
      },
      "source": [
        "We can also use the range() function to tell Python to skip numbers in a given range. If you pass a third argument to range(), Python uses that value as a step size when generating numbers. For example, here’s how to list the even numbers between 1 and 10:"
      ]
    },
    {
      "cell_type": "code",
      "execution_count": 22,
      "id": "fae08e38",
      "metadata": {
        "colab": {
          "base_uri": "https://localhost:8080/"
        },
        "id": "fae08e38",
        "outputId": "df87581d-adb1-4c37-fca1-f8d086af90fb"
      },
      "outputs": [
        {
          "output_type": "stream",
          "name": "stdout",
          "text": [
            "[2, 4, 6, 8, 10]\n"
          ]
        }
      ],
      "source": [
        "even_numbers = list(range(2, 11, 2))\n",
        "print(even_numbers)"
      ]
    },
    {
      "cell_type": "markdown",
      "id": "57c31f59",
      "metadata": {
        "id": "57c31f59"
      },
      "source": [
        "You can create almost any set of numbers you want to using the range() function. For example, consider how you might make a list of the first 10 square numbers (that is, the square of each integer from 1 through 10). In Python, two asterisks (\\*\\*) represent exponents. Here’s how you might put the first 10 square numbers into a list:"
      ]
    },
    {
      "cell_type": "code",
      "execution_count": 25,
      "id": "e0f9cf0d",
      "metadata": {
        "colab": {
          "base_uri": "https://localhost:8080/"
        },
        "id": "e0f9cf0d",
        "outputId": "947c737a-5776-4538-a11e-fd1f77e7a171"
      },
      "outputs": [
        {
          "output_type": "stream",
          "name": "stdout",
          "text": [
            "[1, 4, 9, 16, 25, 36, 49, 64, 81, 100]\n"
          ]
        }
      ],
      "source": [
        "squares = []\n",
        "for value in range(1, 11):\n",
        "    square = value**2\n",
        "    squares.append(square)\n",
        "print(squares)"
      ]
    },
    {
      "cell_type": "markdown",
      "id": "631bac32",
      "metadata": {
        "id": "631bac32"
      },
      "source": [
        "To write this code more concisely, omit the temporary variable square and append each new value directly to the list:"
      ]
    },
    {
      "cell_type": "code",
      "execution_count": 26,
      "id": "cfce2f6c",
      "metadata": {
        "colab": {
          "base_uri": "https://localhost:8080/"
        },
        "id": "cfce2f6c",
        "outputId": "8a2b53ff-1987-475e-c35d-c5083f353093"
      },
      "outputs": [
        {
          "output_type": "stream",
          "name": "stdout",
          "text": [
            "[1, 4, 9, 16, 25, 36, 49, 64, 81, 100]\n"
          ]
        }
      ],
      "source": [
        "squares = []\n",
        "for value in range(1, 11):\n",
        "    squares.append(value**2)\n",
        "print(squares)"
      ]
    },
    {
      "cell_type": "markdown",
      "id": "7a3b90cd",
      "metadata": {
        "id": "7a3b90cd"
      },
      "source": [
        "### Simple Statistics with a List of Numbers\n",
        "\n",
        "A few Python functions are helpful when working with lists of numbers. For example, you can easily find the minimum, maximum, and sum of a list of numbers:"
      ]
    },
    {
      "cell_type": "code",
      "execution_count": 27,
      "id": "94a3da3e",
      "metadata": {
        "colab": {
          "base_uri": "https://localhost:8080/"
        },
        "id": "94a3da3e",
        "outputId": "621eb29c-c2f1-40cf-c963-4fcc8d10a248"
      },
      "outputs": [
        {
          "output_type": "execute_result",
          "data": {
            "text/plain": [
              "0"
            ]
          },
          "metadata": {},
          "execution_count": 27
        }
      ],
      "source": [
        "digits = [1, 2, 3, 4, 5, 6, 7, 8, 9, 0]\n",
        "min(digits)"
      ]
    },
    {
      "cell_type": "code",
      "execution_count": 28,
      "id": "4336573c",
      "metadata": {
        "colab": {
          "base_uri": "https://localhost:8080/"
        },
        "id": "4336573c",
        "outputId": "162485ba-0dac-4e0e-c7b9-2e99635da055"
      },
      "outputs": [
        {
          "output_type": "execute_result",
          "data": {
            "text/plain": [
              "9"
            ]
          },
          "metadata": {},
          "execution_count": 28
        }
      ],
      "source": [
        "max(digits)"
      ]
    },
    {
      "cell_type": "code",
      "execution_count": 29,
      "id": "8bc5ea32",
      "metadata": {
        "colab": {
          "base_uri": "https://localhost:8080/"
        },
        "id": "8bc5ea32",
        "outputId": "a292c613-04f9-4d39-d7bd-cdf185c65616"
      },
      "outputs": [
        {
          "output_type": "execute_result",
          "data": {
            "text/plain": [
              "45"
            ]
          },
          "metadata": {},
          "execution_count": 29
        }
      ],
      "source": [
        "sum(digits)"
      ]
    },
    {
      "cell_type": "markdown",
      "id": "ac1a863f",
      "metadata": {
        "id": "ac1a863f"
      },
      "source": [
        "### List Comprehensions\n",
        "\n",
        "The approach described earlier for generating the list squares consisted of using three or four lines of code. A list comprehension allows you to generate this same list in just one line of code. A list comprehension combines the for loop and the creation of new elements into one line, and automatically appends each new element. List comprehensions are not always presented to beginners, but I have included them here because you’ll most likely see them as soon as you start looking at other people’s code.\n",
        "\n",
        "The following example builds the same list of square numbers you saw earlier but uses a list comprehension:"
      ]
    },
    {
      "cell_type": "code",
      "execution_count": 30,
      "id": "43e28c95",
      "metadata": {
        "colab": {
          "base_uri": "https://localhost:8080/"
        },
        "id": "43e28c95",
        "outputId": "27c42c87-95d7-4fc0-e5db-773d7092ff30"
      },
      "outputs": [
        {
          "output_type": "stream",
          "name": "stdout",
          "text": [
            "[1, 4, 9, 16, 25, 36, 49, 64, 81, 100]\n"
          ]
        }
      ],
      "source": [
        "squares = [value**2 for value in range(1, 11)]\n",
        "print(squares)"
      ]
    },
    {
      "cell_type": "markdown",
      "id": "eb650c7e",
      "metadata": {
        "id": "eb650c7e"
      },
      "source": [
        "To use this syntax, begin with a descriptive name for the list, such as squares. Next, open a set of square brackets and define the expression for the values you want to store in the new list. In this example the expression is value ** 2, which raises the value to the second power. Then, write a for loop to generate the numbers you want to feed into the expression, and close the square brackets. The for loop in this example is for value in range(1, 11), which feeds the values 1 through 10 into the expression value ** 2. Notice that no colon is used at the end of the for statement.\n",
        "\n",
        "## Working with Part of a List\n",
        "\n",
        "In Lecture 3 you learned how to access single elements in a list, and in this chapter you’ve been learning how to work through all the elements in a list. You can also work with a specific group of items in a list, which Python calls a slice.\n",
        "\n",
        "### Slicing a List\n",
        "\n",
        "To make a slice, you specify the index of the first and last elements you want to work with. As with the range() function, Python stops one item before the second index you specify. To output the first three elements in a list, you would request indices 0 through 3, which would return elements 0, 1, and 2. The following example involves a list of players on a team:"
      ]
    },
    {
      "cell_type": "code",
      "execution_count": 31,
      "id": "7c3a5243",
      "metadata": {
        "colab": {
          "base_uri": "https://localhost:8080/"
        },
        "id": "7c3a5243",
        "outputId": "64d9daec-7c70-4d9a-8255-c91cb7d368c0"
      },
      "outputs": [
        {
          "output_type": "stream",
          "name": "stdout",
          "text": [
            "['charles', 'martina', 'michael']\n"
          ]
        }
      ],
      "source": [
        "players = ['charles', 'martina', 'michael', 'florence', 'eli']\n",
        "print(players[0:3])"
      ]
    },
    {
      "cell_type": "code",
      "execution_count": 32,
      "id": "d91427fb",
      "metadata": {
        "colab": {
          "base_uri": "https://localhost:8080/"
        },
        "id": "d91427fb",
        "outputId": "124d5011-1c54-4ba9-f8b5-89fbc4615ff9"
      },
      "outputs": [
        {
          "output_type": "stream",
          "name": "stdout",
          "text": [
            "['martina', 'michael', 'florence']\n"
          ]
        }
      ],
      "source": [
        "players = ['charles', 'martina', 'michael', 'florence', 'eli']\n",
        "print(players[1:4])"
      ]
    },
    {
      "cell_type": "markdown",
      "id": "f512c499",
      "metadata": {
        "id": "f512c499"
      },
      "source": [
        "If you omit the first index in a slice, Python automatically starts your slice at the beginning of the list:"
      ]
    },
    {
      "cell_type": "code",
      "execution_count": 33,
      "id": "61dba8c8",
      "metadata": {
        "colab": {
          "base_uri": "https://localhost:8080/"
        },
        "id": "61dba8c8",
        "outputId": "33f3502e-923d-47dd-f820-5fa482598bbf"
      },
      "outputs": [
        {
          "output_type": "stream",
          "name": "stdout",
          "text": [
            "['charles', 'martina', 'michael', 'florence']\n"
          ]
        }
      ],
      "source": [
        "players = ['charles', 'martina', 'michael', 'florence', 'eli']\n",
        "print(players[:4])"
      ]
    },
    {
      "cell_type": "markdown",
      "id": "153d18b4",
      "metadata": {
        "id": "153d18b4"
      },
      "source": [
        "A similar syntax works if you want a slice that includes the end of a list. For example, if you want all items from the third item through the last item, you can start with index 2 and omit the second index:"
      ]
    },
    {
      "cell_type": "code",
      "execution_count": null,
      "id": "5fc70883",
      "metadata": {
        "id": "5fc70883"
      },
      "outputs": [],
      "source": [
        "players = ['charles', 'martina', 'michael', 'florence', 'eli']\n",
        "print(players[2:])"
      ]
    },
    {
      "cell_type": "markdown",
      "id": "5c3952b9",
      "metadata": {
        "id": "5c3952b9"
      },
      "source": [
        "This syntax allows you to output all of the elements from any point in your list to the end regardless of the length of the list. Recall that a negative index returns an element a certain distance from the end of a list; therefore, you can output any slice from the end of a list. For example, if we want to output the last three players on the roster, we can use the slice players[-3:]:"
      ]
    },
    {
      "cell_type": "code",
      "execution_count": null,
      "id": "87aeb326",
      "metadata": {
        "id": "87aeb326"
      },
      "outputs": [],
      "source": [
        "players = ['charles', 'martina', 'michael', 'florence', 'eli']\n",
        "print(players[-3:])"
      ]
    },
    {
      "cell_type": "markdown",
      "id": "3c5a0043",
      "metadata": {
        "id": "3c5a0043"
      },
      "source": [
        "### Looping Through a Slice\n",
        "\n",
        "You can use a slice in a for loop if you want to loop through a subset of the elements in a list. In the next example we loop through the first three players and print their names as part of a simple roster:"
      ]
    },
    {
      "cell_type": "code",
      "execution_count": null,
      "id": "96c93054",
      "metadata": {
        "id": "96c93054"
      },
      "outputs": [],
      "source": [
        "players = ['charles', 'martina', 'michael', 'florence', 'eli']\n",
        "print(\"Here are the first three players on my team:\")\n",
        "for player in players[:3]:\n",
        "    print(player.title())"
      ]
    },
    {
      "cell_type": "markdown",
      "id": "f2d65007",
      "metadata": {
        "id": "f2d65007"
      },
      "source": [
        "### Copying a List\n",
        "\n",
        "Often, you’ll want to start with an existing list and make an entirely new list based on the first one. Let’s explore how copying a list works and examine one situation in which copying a list is useful.\n",
        "\n",
        "To copy a list, you can make a slice that includes the entire original list by omitting the first index and the second index ([:]). This tells Python to make a slice that starts at the first item and ends with the last item, producing a copy of the entire list.\n",
        "\n",
        "For example, imagine we have a list of our favorite foods and want to make a separate list of foods that a friend likes. This friend likes everything in our list so far, so we can create their list by copying ours:"
      ]
    },
    {
      "cell_type": "code",
      "execution_count": null,
      "id": "60b6053a",
      "metadata": {
        "id": "60b6053a"
      },
      "outputs": [],
      "source": [
        "my_foods = ['pizza', 'falafel', 'carrot cake']\n",
        "friend_foods = my_foods[:]\n",
        "print(\"My favorite foods are:\")\n",
        "print(my_foods)\n",
        "print(\"\\nMy friend's favorite foods are:\")\n",
        "print(friend_foods)"
      ]
    },
    {
      "cell_type": "markdown",
      "id": "830dc607",
      "metadata": {
        "id": "830dc607"
      },
      "source": [
        "To prove that we actually have two separate lists, we’ll add a new food to each list and show that each list keeps track of the appropriate person’s favorite foods:"
      ]
    },
    {
      "cell_type": "code",
      "execution_count": null,
      "id": "a10756b7",
      "metadata": {
        "id": "a10756b7"
      },
      "outputs": [],
      "source": [
        "my_foods = ['pizza', 'falafel', 'carrot cake']\n",
        "friend_foods = my_foods[:]\n",
        "my_foods.append('cannoli')\n",
        "friend_foods.append('ice cream')\n",
        "print(\"My favorite foods are:\")\n",
        "print(my_foods)\n",
        "print(\"\\nMy friend's favorite foods are:\")\n",
        "print(friend_foods)"
      ]
    },
    {
      "cell_type": "code",
      "execution_count": null,
      "id": "c0bf75fe",
      "metadata": {
        "id": "c0bf75fe"
      },
      "outputs": [],
      "source": [
        "my_foods = ['pizza', 'falafel', 'carrot cake']\n",
        "# This doesn't work:\n",
        "friend_foods = my_foods\n",
        "my_foods.append('cannoli')\n",
        "friend_foods.append('ice cream')\n",
        "print(\"My favorite foods are:\")\n",
        "print(my_foods)\n",
        "print(\"\\nMy friend's favorite foods are:\")\n",
        "print(friend_foods)"
      ]
    },
    {
      "cell_type": "markdown",
      "id": "0018b12e",
      "metadata": {
        "id": "0018b12e"
      },
      "source": [
        "## Tuples\n",
        "\n",
        "Lists work well for storing collections of items that can change throughout the life of a program. The ability to modify lists is particularly important when you’re working with a list of users on a website or a list of characters in a game. However, sometimes you’ll want to create a list of items that cannot change. Tuples allow you to do just that. Python refers to values that cannot change as immutable, and an immutable list is called a tuple.\n",
        "\n",
        "### Defining a Tuple\n",
        "\n",
        "A tuple looks just like a list except you use parentheses instead of square brackets. Once you define a tuple, you can access individual elements by using each item’s index, just as you would for a list. For example, if we have a rectangle that should always be a certain size, we can ensure that its size doesn’t change by putting the dimensions into a tuple:"
      ]
    },
    {
      "cell_type": "code",
      "execution_count": 34,
      "id": "e49db8d8",
      "metadata": {
        "colab": {
          "base_uri": "https://localhost:8080/"
        },
        "id": "e49db8d8",
        "outputId": "3388bbf7-bcbf-4f2d-9e95-393d6998716d"
      },
      "outputs": [
        {
          "output_type": "stream",
          "name": "stdout",
          "text": [
            "200\n",
            "50\n"
          ]
        }
      ],
      "source": [
        "dimensions = (200, 50)\n",
        "print(dimensions[0])\n",
        "print(dimensions[1])"
      ]
    },
    {
      "cell_type": "markdown",
      "id": "a6d14abb",
      "metadata": {
        "id": "a6d14abb"
      },
      "source": [
        "Let’s see what happens if we try to change one of the items in the tuple dimensions:"
      ]
    },
    {
      "cell_type": "code",
      "execution_count": 36,
      "id": "f0f3db65",
      "metadata": {
        "colab": {
          "base_uri": "https://localhost:8080/",
          "height": 159
        },
        "id": "f0f3db65",
        "outputId": "8e9834d7-b953-43a1-f400-de9155423e29"
      },
      "outputs": [
        {
          "output_type": "error",
          "ename": "TypeError",
          "evalue": "'tuple' object does not support item assignment",
          "traceback": [
            "\u001b[0;31m---------------------------------------------------------------------------\u001b[0m",
            "\u001b[0;31mTypeError\u001b[0m                                 Traceback (most recent call last)",
            "\u001b[0;32m<ipython-input-36-258c8b06eee2>\u001b[0m in \u001b[0;36m<cell line: 0>\u001b[0;34m()\u001b[0m\n\u001b[1;32m      1\u001b[0m \u001b[0mdimensions\u001b[0m \u001b[0;34m=\u001b[0m \u001b[0;34m(\u001b[0m\u001b[0;36m200\u001b[0m\u001b[0;34m,\u001b[0m \u001b[0;36m50\u001b[0m\u001b[0;34m)\u001b[0m\u001b[0;34m\u001b[0m\u001b[0;34m\u001b[0m\u001b[0m\n\u001b[0;32m----> 2\u001b[0;31m \u001b[0mdimensions\u001b[0m\u001b[0;34m[\u001b[0m\u001b[0;36m0\u001b[0m\u001b[0;34m]\u001b[0m \u001b[0;34m=\u001b[0m \u001b[0;36m250\u001b[0m\u001b[0;34m\u001b[0m\u001b[0;34m\u001b[0m\u001b[0m\n\u001b[0m",
            "\u001b[0;31mTypeError\u001b[0m: 'tuple' object does not support item assignment"
          ]
        }
      ],
      "source": [
        "dimensions = (200, 50)\n",
        "dimensions[0] = 250"
      ]
    },
    {
      "cell_type": "markdown",
      "id": "0bcb15d6",
      "metadata": {
        "id": "0bcb15d6"
      },
      "source": [
        "Tuples are technically defined by the presence of a comma; the parentheses make them look neater and more readable. If you want to define a tuple with one element, you need to include a trailing comma:"
      ]
    },
    {
      "cell_type": "code",
      "execution_count": 38,
      "id": "e2accb38",
      "metadata": {
        "id": "e2accb38"
      },
      "outputs": [],
      "source": [
        "my_t = (3,)"
      ]
    },
    {
      "cell_type": "markdown",
      "id": "2e0c6644",
      "metadata": {
        "id": "2e0c6644"
      },
      "source": [
        "### Looping Through All Values in a Tuple\n",
        "\n",
        "You can loop over all the values in a tuple using a for loop, just as you did with a list:"
      ]
    },
    {
      "cell_type": "code",
      "execution_count": 39,
      "id": "5f14370c",
      "metadata": {
        "colab": {
          "base_uri": "https://localhost:8080/"
        },
        "id": "5f14370c",
        "outputId": "4d3c3822-c445-46ad-8395-29e2fd480cf0"
      },
      "outputs": [
        {
          "output_type": "stream",
          "name": "stdout",
          "text": [
            "200\n",
            "50\n"
          ]
        }
      ],
      "source": [
        "dimensions = (200, 50)\n",
        "for dimension in dimensions:\n",
        "    print(dimension)"
      ]
    },
    {
      "cell_type": "markdown",
      "id": "8efe4762",
      "metadata": {
        "id": "8efe4762"
      },
      "source": [
        "### Writing over a Tuple\n",
        "\n",
        "Although you can’t modify a tuple, you can assign a new value to a variable that represents a tuple. So if we wanted to change our dimensions, we could redefine the entire tuple:"
      ]
    },
    {
      "cell_type": "code",
      "execution_count": 40,
      "id": "d13a7abc",
      "metadata": {
        "colab": {
          "base_uri": "https://localhost:8080/"
        },
        "id": "d13a7abc",
        "outputId": "c3423c89-01a0-4ad6-b1ca-a59664c20c36"
      },
      "outputs": [
        {
          "output_type": "stream",
          "name": "stdout",
          "text": [
            "Original dimensions:\n",
            "200\n",
            "50\n",
            "\n",
            "Modified dimensions:\n",
            "400\n",
            "100\n"
          ]
        }
      ],
      "source": [
        "dimensions = (200, 50)\n",
        "print(\"Original dimensions:\")\n",
        "for dimension in dimensions:\n",
        "    print(dimension)\n",
        "\n",
        "dimensions = (400, 100)\n",
        "print(\"\\nModified dimensions:\")\n",
        "for dimension in dimensions:\n",
        "    print(dimension)"
      ]
    }
  ],
  "metadata": {
    "kernelspec": {
      "display_name": "Python 3",
      "language": "python",
      "name": "python3"
    },
    "colab": {
      "provenance": []
    }
  },
  "nbformat": 4,
  "nbformat_minor": 5
}