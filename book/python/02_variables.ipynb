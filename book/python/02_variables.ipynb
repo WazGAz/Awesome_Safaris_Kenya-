{
  "cells": [
    {
      "cell_type": "markdown",
      "id": "0",
      "metadata": {
        "id": "0"
      },
      "source": [
        "# Variables and Data Types\n",
        "\n",
        "[![Open In Colab](https://colab.research.google.com/assets/colab-badge.svg)](https://colab.research.google.com/github/giswqs/geog-312/blob/main/book/python/02_variables.ipynb)\n",
        "\n",
        "## Overview\n",
        "\n",
        "This lecture introduces the fundamental concepts of variables and data types in Python, focusing on their applications within geospatial programming. Understanding these basics is essential for working with geospatial data, as variables allow you to store and manipulate information, while data types define the kind of operations you can perform on this information. This lecture will guide you through variable assignment, naming conventions, and the various data types available in Python, providing practical examples relevant to GIS.\n",
        "\n",
        "## Learning Objectives\n",
        "\n",
        "By the end of this lecture, you should be able to:\n",
        "\n",
        "- Define and use variables in Python, adhering to best practices for naming and assignment.\n",
        "- Identify and utilize various Python data types, including integers, floats, strings, booleans, lists, and dictionaries.\n",
        "- Understand how data types are used in the context of geospatial data, such as coordinates and attribute information.\n",
        "- Perform basic operations and manipulations on different data types, reinforcing your understanding of their practical applications in geospatial programming.\n",
        "- Apply the concepts of variables and data types to real-world geospatial problems, such as calculating centroids and managing attribute data."
      ]
    },
    {
      "cell_type": "markdown",
      "id": "1",
      "metadata": {
        "id": "1"
      },
      "source": [
        "## Variables in Python\n",
        "\n",
        "In Python, a variable is a symbolic name that is a reference or pointer to an object. Once an object is assigned to a variable, you can refer to that object by the variable name.\n",
        "\n",
        "Let's start by creating a simple variable that represents the number of spatial points in a dataset."
      ]
    },
    {
      "cell_type": "code",
      "execution_count": 1,
      "id": "2",
      "metadata": {
        "id": "2"
      },
      "outputs": [],
      "source": [
        "num_points = 120"
      ]
    },
    {
      "cell_type": "markdown",
      "id": "3",
      "metadata": {
        "id": "3"
      },
      "source": [
        "This variable `num_points` now holds the integer value 120, which we can use in our calculations or logic.\n",
        "\n",
        "To view the value of the variable, we can use the `print()` function."
      ]
    },
    {
      "cell_type": "code",
      "execution_count": 2,
      "id": "4",
      "metadata": {
        "colab": {
          "base_uri": "https://localhost:8080/"
        },
        "id": "4",
        "outputId": "a6ceb927-cac2-4862-b897-e50603ba3e93"
      },
      "outputs": [
        {
          "output_type": "stream",
          "name": "stdout",
          "text": [
            "120\n"
          ]
        }
      ],
      "source": [
        "print(num_points)"
      ]
    },
    {
      "cell_type": "markdown",
      "id": "5",
      "metadata": {
        "id": "5"
      },
      "source": [
        "Alternatively, we can simply type the variable name in a code cell and run the cell to display the value of the variable."
      ]
    },
    {
      "cell_type": "code",
      "execution_count": 3,
      "id": "6",
      "metadata": {
        "colab": {
          "base_uri": "https://localhost:8080/"
        },
        "id": "6",
        "outputId": "3a3b6817-b166-4f8a-c0fe-2b858252aef7"
      },
      "outputs": [
        {
          "output_type": "execute_result",
          "data": {
            "text/plain": [
              "120"
            ]
          },
          "metadata": {},
          "execution_count": 3
        }
      ],
      "source": [
        "num_points"
      ]
    },
    {
      "cell_type": "markdown",
      "id": "7",
      "metadata": {
        "id": "7"
      },
      "source": [
        "## Naming Variables\n",
        "\n",
        "When naming variables, you should follow these rules:\n",
        "\n",
        "- Variable names must start with a letter or an underscore, such as `_`.\n",
        "- The remainder of the variable name can consist of letters, numbers, and underscores.\n",
        "- Variable names are case-sensitive, so `num_points` and `Num_Points` are different variables.\n",
        "- Variable names should be descriptive and meaningful, such as `num_points` instead of `n`.\n",
        "- Avoid using Python keywords and built-in functions as variable names, such as `print`, `sum`, `list`, `dict`, `str`, `int`, `float`, `bool`, `set`, `tuple`, `range`, `type`, `object`, `None`, `True`, `False`, `and`, `or`, `not`, `if`, `else`, `elif`, `for`, `while`, `break`, `continue`, `pass`, `def`, `return`, `lambda`, `class`, `import`, `from`, `as`, `with`, `try`, `except`, `finally`, `raise`, `assert`, `del`, `in`, `is`, `global`, `nonlocal`, `yield`, `async`, `await`."
      ]
    },
    {
      "cell_type": "markdown",
      "id": "8",
      "metadata": {
        "id": "8"
      },
      "source": [
        "## Data Types\n",
        "\n",
        "Python supports various data types, which are essential to understand before working with geospatial data. The most common data types include:\n",
        "\n",
        "**a) Integers (int):** These are whole numbers, e.g., 1, 120, -5"
      ]
    },
    {
      "cell_type": "code",
      "execution_count": 4,
      "id": "9",
      "metadata": {
        "id": "9"
      },
      "outputs": [],
      "source": [
        "num_features = 500  # Represents the number of features in a geospatial dataset"
      ]
    },
    {
      "cell_type": "markdown",
      "id": "10",
      "metadata": {
        "id": "10"
      },
      "source": [
        "**b) Floating-point numbers (float):** These are numbers with a decimal point, e.g., 3.14, -0.001, 100.0. You can write multiple lines of code in a single code cell. The output will be displayed for the last line of code."
      ]
    },
    {
      "cell_type": "code",
      "execution_count": 5,
      "id": "11",
      "metadata": {
        "id": "11"
      },
      "outputs": [],
      "source": [
        "latitude = 35.6895  # Represents the latitude of a point on Earth's surface\n",
        "longitude = 139.6917  # Represents the longitude of a point on Earth's surface"
      ]
    },
    {
      "cell_type": "markdown",
      "id": "12",
      "metadata": {
        "id": "12"
      },
      "source": [
        "**c) Strings (str):** Strings are sequences of characters, e.g., \"Hello\", \"Geospatial Data\", \"Lat/Long\""
      ]
    },
    {
      "cell_type": "code",
      "execution_count": 6,
      "id": "13",
      "metadata": {
        "id": "13"
      },
      "outputs": [],
      "source": [
        "coordinate_system = \"WGS 84\"  # Represents a commonly used coordinate system"
      ]
    },
    {
      "cell_type": "markdown",
      "id": "14",
      "metadata": {
        "id": "14"
      },
      "source": [
        "Strings can be enclosed in single quotes (`'`) or double quotes (`\"`). You can also use triple quotes (`'''` or `\"\"\"`) for multiline strings."
      ]
    },
    {
      "cell_type": "markdown",
      "id": "15",
      "metadata": {
        "id": "15"
      },
      "source": [
        "**d) Booleans (bool):** Booleans represent one of two values: True or False"
      ]
    },
    {
      "cell_type": "code",
      "execution_count": 7,
      "id": "16",
      "metadata": {
        "id": "16"
      },
      "outputs": [],
      "source": [
        "is_georeferenced = True  # Represents whether a dataset is georeferenced or not"
      ]
    },
    {
      "cell_type": "markdown",
      "id": "17",
      "metadata": {
        "id": "17"
      },
      "source": [
        "**e) Lists:** Lists are ordered collections of items, which can be of any data type."
      ]
    },
    {
      "cell_type": "code",
      "execution_count": null,
      "id": "18",
      "metadata": {
        "id": "18"
      },
      "outputs": [],
      "source": [
        "coordinates = [\n",
        "    35.6895,\n",
        "    139.6917,\n",
        "]  # A list representing latitude and longitude of a point"
      ]
    },
    {
      "cell_type": "markdown",
      "id": "19",
      "metadata": {
        "id": "19"
      },
      "source": [
        "**f) Dictionaries (dict):** Dictionaries are collections of key-value pairs."
      ]
    },
    {
      "cell_type": "code",
      "execution_count": null,
      "id": "20",
      "metadata": {
        "id": "20"
      },
      "outputs": [],
      "source": [
        "feature_attributes = {\n",
        "    \"name\": \"Mount Fuji\",\n",
        "    \"height_meters\": 3776,\n",
        "    \"type\": \"Stratovolcano\",\n",
        "    \"location\": [35.3606, 138.7274],\n",
        "}"
      ]
    },
    {
      "cell_type": "markdown",
      "id": "21",
      "metadata": {
        "id": "21"
      },
      "source": [
        "## Escape Characters\n",
        "\n",
        "Escape characters are used to insert characters that are illegal in a string. For example, you can use the escape character `\\n` to insert a new line in a string."
      ]
    },
    {
      "cell_type": "code",
      "execution_count": 8,
      "id": "22",
      "metadata": {
        "colab": {
          "base_uri": "https://localhost:8080/"
        },
        "id": "22",
        "outputId": "261c5fab-63ab-4303-92c9-bc956b7e535a"
      },
      "outputs": [
        {
          "output_type": "stream",
          "name": "stdout",
          "text": [
            "Hello World!\n",
            "This is a Python script.\n"
          ]
        }
      ],
      "source": [
        "print(\"Hello World!\\nThis is a Python script.\")"
      ]
    },
    {
      "cell_type": "markdown",
      "id": "23",
      "metadata": {
        "id": "23"
      },
      "source": [
        "Another common escape character is `\\t`, which inserts a tab in a string."
      ]
    },
    {
      "cell_type": "code",
      "execution_count": null,
      "id": "24",
      "metadata": {
        "id": "24"
      },
      "outputs": [],
      "source": [
        "print(\"This is the first line.\\n\\tThis is the second line. It is indented.\")"
      ]
    },
    {
      "cell_type": "markdown",
      "id": "25",
      "metadata": {
        "id": "25"
      },
      "source": [
        "If you want to include a single quote in a string, your can wrap the string in double quotes. Alternatively, you can use the escape character `\\'` to include a single quote in a string."
      ]
    },
    {
      "cell_type": "code",
      "execution_count": null,
      "id": "26",
      "metadata": {
        "id": "26"
      },
      "outputs": [],
      "source": [
        "print(\"What's your name?\")"
      ]
    },
    {
      "cell_type": "code",
      "execution_count": null,
      "id": "27",
      "metadata": {
        "id": "27"
      },
      "outputs": [],
      "source": [
        "print(\"What's your name?\")"
      ]
    },
    {
      "cell_type": "markdown",
      "id": "28",
      "metadata": {
        "id": "28"
      },
      "source": [
        "## Comments\n",
        "\n",
        "Comments are used to explain the code and make it more readable. In Python, comments start with the `#` symbol. Everything after the `#` symbol on a line is ignored by the Python interpreter."
      ]
    },
    {
      "cell_type": "code",
      "execution_count": null,
      "id": "29",
      "metadata": {
        "id": "29"
      },
      "outputs": [],
      "source": [
        "# This is a comment\n",
        "num_points = 120  # This is an inline comment"
      ]
    },
    {
      "cell_type": "markdown",
      "id": "30",
      "metadata": {
        "id": "30"
      },
      "source": [
        "## Working with Variables and Data Types\n",
        "\n",
        "Now, let's do some basic operations with these variables.\n",
        "\n",
        "Adding a constant to the number of features:"
      ]
    },
    {
      "cell_type": "code",
      "execution_count": 9,
      "id": "31",
      "metadata": {
        "colab": {
          "base_uri": "https://localhost:8080/"
        },
        "id": "31",
        "outputId": "8d487f44-35d6-4ed5-9be2-893d439b5fd9"
      },
      "outputs": [
        {
          "output_type": "stream",
          "name": "stdout",
          "text": [
            "Updated number of features: 520\n"
          ]
        }
      ],
      "source": [
        "num_features += 20\n",
        "print(\"Updated number of features:\", num_features)"
      ]
    },
    {
      "cell_type": "markdown",
      "id": "32",
      "metadata": {
        "id": "32"
      },
      "source": [
        "Converting latitude from degrees to radians (required for some geospatial calculations):"
      ]
    },
    {
      "cell_type": "code",
      "execution_count": 10,
      "id": "33",
      "metadata": {
        "colab": {
          "base_uri": "https://localhost:8080/"
        },
        "id": "33",
        "outputId": "6131fdb9-72cf-4acf-c38c-11c93d4c6e5f"
      },
      "outputs": [
        {
          "output_type": "stream",
          "name": "stdout",
          "text": [
            "Latitude in radians: 0.6228992833905163\n"
          ]
        }
      ],
      "source": [
        "import math\n",
        "\n",
        "latitude = 35.6895\n",
        "latitude_radians = math.radians(latitude)\n",
        "print(\"Latitude in radians:\", latitude_radians)"
      ]
    },
    {
      "cell_type": "markdown",
      "id": "34",
      "metadata": {
        "id": "34"
      },
      "source": [
        "Adding new coordinates to the list:"
      ]
    },
    {
      "cell_type": "code",
      "execution_count": 11,
      "id": "35",
      "metadata": {
        "colab": {
          "base_uri": "https://localhost:8080/"
        },
        "id": "35",
        "outputId": "d60e6150-fe4d-4ee7-df39-4b77800ff42f"
      },
      "outputs": [
        {
          "output_type": "stream",
          "name": "stdout",
          "text": [
            "Updated coordinates: [35.6895, 139.6917, 34.0522, -118.2437]\n"
          ]
        }
      ],
      "source": [
        "coordinates = [35.6895, 139.6917]\n",
        "coordinates.append(34.0522)  # Adding latitude of Los Angeles\n",
        "coordinates.append(-118.2437)  # Adding longitude of Los Angeles\n",
        "print(\"Updated coordinates:\", coordinates)"
      ]
    },
    {
      "cell_type": "markdown",
      "id": "36",
      "metadata": {
        "id": "36"
      },
      "source": [
        "Accessing dictionary elements:"
      ]
    },
    {
      "cell_type": "code",
      "execution_count": 12,
      "id": "37",
      "metadata": {
        "colab": {
          "base_uri": "https://localhost:8080/",
          "height": 176
        },
        "id": "37",
        "outputId": "87fd84e2-06fa-4fdb-8c03-f99ce65b9c99"
      },
      "outputs": [
        {
          "output_type": "error",
          "ename": "NameError",
          "evalue": "name 'feature_attributes' is not defined",
          "traceback": [
            "\u001b[0;31m---------------------------------------------------------------------------\u001b[0m",
            "\u001b[0;31mNameError\u001b[0m                                 Traceback (most recent call last)",
            "\u001b[0;32m<ipython-input-12-2e79a444a7a4>\u001b[0m in \u001b[0;36m<cell line: 0>\u001b[0;34m()\u001b[0m\n\u001b[0;32m----> 1\u001b[0;31m \u001b[0mmount_fuji_name\u001b[0m \u001b[0;34m=\u001b[0m \u001b[0mfeature_attributes\u001b[0m\u001b[0;34m[\u001b[0m\u001b[0;34m\"name\"\u001b[0m\u001b[0;34m]\u001b[0m\u001b[0;34m\u001b[0m\u001b[0;34m\u001b[0m\u001b[0m\n\u001b[0m\u001b[1;32m      2\u001b[0m \u001b[0mmount_fuji_height\u001b[0m \u001b[0;34m=\u001b[0m \u001b[0mfeature_attributes\u001b[0m\u001b[0;34m[\u001b[0m\u001b[0;34m\"height_meters\"\u001b[0m\u001b[0;34m]\u001b[0m\u001b[0;34m\u001b[0m\u001b[0;34m\u001b[0m\u001b[0m\n\u001b[1;32m      3\u001b[0m \u001b[0mprint\u001b[0m\u001b[0;34m(\u001b[0m\u001b[0;34mf\"{mount_fuji_name} is {mount_fuji_height} meters high.\"\u001b[0m\u001b[0;34m)\u001b[0m\u001b[0;34m\u001b[0m\u001b[0;34m\u001b[0m\u001b[0m\n",
            "\u001b[0;31mNameError\u001b[0m: name 'feature_attributes' is not defined"
          ]
        }
      ],
      "source": [
        "mount_fuji_name = feature_attributes[\"name\"]\n",
        "mount_fuji_height = feature_attributes[\"height_meters\"]\n",
        "print(f\"{mount_fuji_name} is {mount_fuji_height} meters high.\")"
      ]
    },
    {
      "cell_type": "markdown",
      "id": "38",
      "metadata": {
        "id": "38"
      },
      "source": [
        "## Application in Geospatial Context\n",
        "\n",
        "Let's say you are given a list of coordinates and need to calculate the centroid (average point).\n",
        "\n",
        "Example coordinates of four points (latitude, longitude):"
      ]
    },
    {
      "cell_type": "code",
      "execution_count": 13,
      "id": "39",
      "metadata": {
        "id": "39"
      },
      "outputs": [],
      "source": [
        "points = [\n",
        "    [35.6895, 139.6917],  # Tokyo\n",
        "    [34.0522, -118.2437],  # Los Angeles\n",
        "    [51.5074, -0.1278],  # London\n",
        "    [48.8566, 2.3522],  # Paris\n",
        "]"
      ]
    },
    {
      "cell_type": "markdown",
      "id": "40",
      "metadata": {
        "id": "40"
      },
      "source": [
        "Calculate the centroid:"
      ]
    },
    {
      "cell_type": "code",
      "execution_count": 14,
      "id": "41",
      "metadata": {
        "colab": {
          "base_uri": "https://localhost:8080/"
        },
        "id": "41",
        "outputId": "ad7048fe-c009-43f4-bea8-4917cc1ed9ce"
      },
      "outputs": [
        {
          "output_type": "stream",
          "name": "stdout",
          "text": [
            "Centroid of the points is at: [42.526425, 5.918099999999998]\n"
          ]
        }
      ],
      "source": [
        "centroid_lat = sum([point[0] for point in points]) / len(points)\n",
        "centroid_lon = sum([point[1] for point in points]) / len(points)\n",
        "centroid = [centroid_lat, centroid_lon]\n",
        "print(\"Centroid of the points is at:\", centroid)"
      ]
    },
    {
      "cell_type": "markdown",
      "id": "42",
      "metadata": {
        "id": "42"
      },
      "source": [
        "## Further Reading\n",
        "\n",
        "For more information on variables and data types in Python, check out the **Basics** section of the A Byte of Python book: <https://python.swaroopch.com/basics.html>."
      ]
    },
    {
      "cell_type": "markdown",
      "id": "43",
      "metadata": {
        "id": "43"
      },
      "source": [
        "## Exercises\n",
        "\n",
        "1. Create a list of tuples, each representing the coordinates (latitude, longitude) of different cities you have visited.\n",
        "2. Calculate the centroid of these coordinates.\n",
        "3. Create a dictionary to store the centroid's latitude and longitude."
      ]
    },
    {
      "cell_type": "code",
      "execution_count": 15,
      "id": "44",
      "metadata": {
        "id": "44"
      },
      "outputs": [],
      "source": [
        "coordinates = [\n",
        "    (\"Nairobi\", -1.286389, 36.817223),\n",
        "    (\"Kisumu\", -0.1022, 34.7617),\n",
        "    (\"Nakuru\", -0.2833, 36.0667),\n",
        "    (\"Eldoret\", 0.5167, 35.2833)\n",
        "]"
      ]
    },
    {
      "cell_type": "code",
      "source": [
        "# Extract latitude and longitude values\n",
        "latitudes = [coord[1] for coord in coordinates]\n",
        "longitudes = [coord[2] for coord in coordinates]\n",
        "\n",
        "# Calculate centroid\n",
        "centroid_lat = sum(latitudes) / len(latitudes)\n",
        "centroid_lon = sum(longitudes) / len(longitudes)\n",
        "\n",
        "# Display centroid\n",
        "print(f\"Centroid of the given locations: ({centroid_lat}, {centroid_lon})\")\n"
      ],
      "metadata": {
        "colab": {
          "base_uri": "https://localhost:8080/"
        },
        "id": "gDqLWdiExs3J",
        "outputId": "e4e29ec6-b61a-4265-efce-93cf28061a6d"
      },
      "id": "gDqLWdiExs3J",
      "execution_count": 16,
      "outputs": [
        {
          "output_type": "stream",
          "name": "stdout",
          "text": [
            "Centroid of the given locations: (-0.28879725, 35.73223075)\n"
          ]
        }
      ]
    },
    {
      "cell_type": "markdown",
      "id": "45",
      "metadata": {
        "id": "45"
      },
      "source": [
        "## Summary\n",
        "\n",
        "Understanding Python variables and data types is crucial in geospatial programming.\n",
        "As you proceed with more complex analyses, these concepts will serve as the foundation for your work.\n",
        "Continue practicing by experimenting with different data types and operations in a geospatial context.\n",
        "\n",
        "Happy coding!"
      ]
    }
  ],
  "metadata": {
    "kernelspec": {
      "display_name": "Python 3",
      "language": "python",
      "name": "python3"
    },
    "language_info": {
      "codemirror_mode": {
        "name": "ipython",
        "version": 3
      },
      "file_extension": ".py",
      "mimetype": "text/x-python",
      "name": "python",
      "nbconvert_exporter": "python",
      "pygments_lexer": "ipython3",
      "version": "3.11.8"
    },
    "colab": {
      "provenance": []
    }
  },
  "nbformat": 4,
  "nbformat_minor": 5
}