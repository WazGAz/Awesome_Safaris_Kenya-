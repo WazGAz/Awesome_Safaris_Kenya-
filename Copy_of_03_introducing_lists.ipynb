{
  "cells": [
    {
      "cell_type": "markdown",
      "metadata": {
        "id": "view-in-github",
        "colab_type": "text"
      },
      "source": [
        "<a href=\"https://colab.research.google.com/github/WazGAz/Awesome_Safaris_Kenya-/blob/main/Copy_of_03_introducing_lists.ipynb\" target=\"_parent\"><img src=\"https://colab.research.google.com/assets/colab-badge.svg\" alt=\"Open In Colab\"/></a>"
      ]
    },
    {
      "cell_type": "markdown",
      "id": "42ba3c4e",
      "metadata": {
        "id": "42ba3c4e"
      },
      "source": [
        "# Introducing List\n",
        "\n",
        "```{contents}\n",
        ":local:\n",
        ":depth: 2\n",
        "```\n",
        "\n",
        "In this lecture and the next you’ll learn what lists are and how to start working with the elements in a list. Lists allow you to store sets of information in one place, whether you have just a few items or millions of items. Lists are one of Python’s most powerful features readily accessible to new programmers, and they tie together many important concepts in programming.\n",
        "\n",
        "- [What is a List?](#what-is-a-list)\n",
        "- [Changing, Adding, and Removing Elements](#changing-elements)\n",
        "- [Organizing a List](#organizing-a-list)\n",
        "- [Avoiding Index Errors When Working with Lists](#avoiding-index-errors)\n",
        "\n",
        "## Type in Python\n",
        "\n",
        "Python have a built-in method called as type which generally come in handy while figuring out the type of variable used in the program in the runtime.\n",
        "\n",
        "If a single argument (object) is passed to type() built-in, it returns type of the given object. If three arguments (name, bases and dict) are passed, it returns a new type object."
      ]
    },
    {
      "cell_type": "code",
      "execution_count": 1,
      "id": "8daa5896",
      "metadata": {
        "id": "8daa5896",
        "colab": {
          "base_uri": "https://localhost:8080/"
        },
        "outputId": "75f26742-8bf8-4193-ba90-7b0a7d49c6df"
      },
      "outputs": [
        {
          "output_type": "stream",
          "name": "stdout",
          "text": [
            "<class 'int'>\n",
            "<class 'str'>\n",
            "<class 'list'>\n"
          ]
        }
      ],
      "source": [
        "x = 5\n",
        "s = \"geeksforgeeks\"\n",
        "y = [1, 2, 3]\n",
        "print(type(x))\n",
        "print(type(s))\n",
        "print(type(y))"
      ]
    },
    {
      "cell_type": "markdown",
      "id": "e8c30f09",
      "metadata": {
        "id": "e8c30f09"
      },
      "source": [
        "## What is a List?\n",
        "\n",
        "A list is a collection of items in a particular order. You can make a list that includes the letters of the alphabet, the digits from 0–9, or the names of all the people in your family. You can put anything you want into a list, and the items in your list don’t have to be related in any particular way. Because a list usually contains more than one element, it’s a good idea to make the name of your list plural, such as letters, digits, or names. In Python, square brackets ([]) indicate a list, and individual elements in the list are separated by commas. Here’s a simple example of a list that contains a few kinds of bicycles:"
      ]
    },
    {
      "cell_type": "code",
      "execution_count": 2,
      "id": "4d929c8b",
      "metadata": {
        "id": "4d929c8b",
        "colab": {
          "base_uri": "https://localhost:8080/"
        },
        "outputId": "0bf38e2d-0ddb-455c-ceaf-f4509781f7ec"
      },
      "outputs": [
        {
          "output_type": "stream",
          "name": "stdout",
          "text": [
            "['trek', 'cannondale', 'redline', 'specialized']\n"
          ]
        }
      ],
      "source": [
        "bicycles = ['trek', 'cannondale', 'redline', 'specialized']\n",
        "print(bicycles)"
      ]
    },
    {
      "cell_type": "markdown",
      "id": "00fa39f7",
      "metadata": {
        "id": "00fa39f7"
      },
      "source": [
        "### Accessing Elements in a List\n",
        "\n",
        "Accessing Elements in a List Lists are ordered collections, so you can access any element in a list by telling Python the position, or index, of the item desired. To access an element in a list, write the name of the list followed by the index of the item enclosed in square brackets. For example, let’s pull out the first bicycle in the list bicycles:"
      ]
    },
    {
      "cell_type": "code",
      "execution_count": 3,
      "id": "e787015c",
      "metadata": {
        "id": "e787015c",
        "colab": {
          "base_uri": "https://localhost:8080/"
        },
        "outputId": "74279f29-9ea7-49e3-b59f-6bbafb870b7e"
      },
      "outputs": [
        {
          "output_type": "stream",
          "name": "stdout",
          "text": [
            "trek\n"
          ]
        }
      ],
      "source": [
        "print(bicycles[0])"
      ]
    },
    {
      "cell_type": "markdown",
      "id": "7e659a30",
      "metadata": {
        "id": "7e659a30"
      },
      "source": [
        "You can also use the string methods from Chapter 2 on any element in this list. For example, you can format the element 'trek' more neatly by using the title() method:"
      ]
    },
    {
      "cell_type": "code",
      "execution_count": 4,
      "id": "73879266",
      "metadata": {
        "id": "73879266",
        "colab": {
          "base_uri": "https://localhost:8080/"
        },
        "outputId": "20ee2ec3-debe-409f-c239-f1482f15426d"
      },
      "outputs": [
        {
          "output_type": "stream",
          "name": "stdout",
          "text": [
            "Trek\n"
          ]
        }
      ],
      "source": [
        "print(bicycles[0].title())"
      ]
    },
    {
      "cell_type": "markdown",
      "id": "e83691a9",
      "metadata": {
        "id": "e83691a9"
      },
      "source": [
        "### Index Positions Start at 0, Not 1\n",
        "\n",
        "Python considers the first item in a list to be at position 0, not position 1. This is true of most programming languages, and the reason has to do with how the list operations are implemented at a lower level. If you’re receiving unexpected results, determine whether you are making a simple off-by-one error.\n",
        "\n",
        "The second item in a list has an index of 1. Using this counting sys tem, you can get any element you want from a list by subtracting one from its position in the list. For instance, to access the fourth item in a list, you request the item at index 3.\n",
        "\n",
        "The following asks for the bicycles at index 1 and index 3:"
      ]
    },
    {
      "cell_type": "code",
      "execution_count": 5,
      "id": "b40a111e",
      "metadata": {
        "id": "b40a111e",
        "colab": {
          "base_uri": "https://localhost:8080/"
        },
        "outputId": "b7095b2c-f190-47e7-91bc-2c36e2fe609e"
      },
      "outputs": [
        {
          "output_type": "stream",
          "name": "stdout",
          "text": [
            "cannondale\n",
            "specialized\n"
          ]
        }
      ],
      "source": [
        "print(bicycles[1])\n",
        "print(bicycles[3])"
      ]
    },
    {
      "cell_type": "markdown",
      "id": "a6bc5444",
      "metadata": {
        "id": "a6bc5444"
      },
      "source": [
        "Python has a special syntax for accessing the last element in a list. By ask ing for the item at index -1, Python always returns the last item in the list:"
      ]
    },
    {
      "cell_type": "code",
      "execution_count": 6,
      "id": "9cbae374",
      "metadata": {
        "id": "9cbae374",
        "colab": {
          "base_uri": "https://localhost:8080/"
        },
        "outputId": "a9a83447-3973-42ca-9ef7-c38d9907f346"
      },
      "outputs": [
        {
          "output_type": "stream",
          "name": "stdout",
          "text": [
            "specialized\n"
          ]
        }
      ],
      "source": [
        "bicycles = ['trek', 'cannondale', 'redline', 'specialized']\n",
        "print(bicycles[-1])"
      ]
    },
    {
      "cell_type": "markdown",
      "id": "442d475e",
      "metadata": {
        "id": "442d475e"
      },
      "source": [
        "### Using Individual Values from a List\n",
        "\n",
        "You can use individual values from a list just as you would any other variable. For example, you can use f-strings to create a message based on a value from a list. Let’s try pulling the first bicycle from the list and composing a message using that value."
      ]
    },
    {
      "cell_type": "code",
      "execution_count": 7,
      "id": "e6d962fa",
      "metadata": {
        "id": "e6d962fa",
        "colab": {
          "base_uri": "https://localhost:8080/"
        },
        "outputId": "035ac8f1-17df-4c9f-ae82-4cc06907904f"
      },
      "outputs": [
        {
          "output_type": "stream",
          "name": "stdout",
          "text": [
            "My first bicycle was a Trek.\n"
          ]
        }
      ],
      "source": [
        "bicycles = ['trek', 'cannondale', 'redline', 'specialized']\n",
        "message = f\"My first bicycle was a {bicycles[0].title()}.\"\n",
        "print(message)"
      ]
    },
    {
      "cell_type": "markdown",
      "id": "918cd1ef",
      "metadata": {
        "id": "918cd1ef"
      },
      "source": [
        "## Changing, Adding, and Removing Elements\n",
        "\n",
        "Most lists you create will be dynamic, meaning you’ll build a list and then add and remove elements from it as your program runs its course. For example, you might create a game in which a player has to shoot aliens out of the sky. You could store the initial set of aliens in a list and then remove an alien from the list each time one is shot down. Each time a new alien appears on the screen, you add it to the list. Your list of aliens will increase and decrease in length throughout the course of the game.\n",
        "\n",
        "### Modifying Elements in a List\n",
        "\n",
        "The syntax for modifying an element is similar to the syntax for accessing an element in a list. To change an element, use the name of the list followed by the index of the element you want to change, and then provide the new value you want that item to have.\n",
        "For example, let’s say we have a list of motorcycles, and the first item in the list is 'honda'. How would we change the value of this first item?"
      ]
    },
    {
      "cell_type": "code",
      "execution_count": 8,
      "id": "ca5331b0",
      "metadata": {
        "id": "ca5331b0",
        "colab": {
          "base_uri": "https://localhost:8080/"
        },
        "outputId": "562df374-4be3-4cc4-c2f6-ab0b7c9b680b"
      },
      "outputs": [
        {
          "output_type": "stream",
          "name": "stdout",
          "text": [
            "['honda', 'yamaha', 'suzuki']\n"
          ]
        }
      ],
      "source": [
        "motorcycles = ['honda', 'yamaha', 'suzuki']\n",
        "print(motorcycles)"
      ]
    },
    {
      "cell_type": "code",
      "execution_count": 9,
      "id": "21e01b7f",
      "metadata": {
        "id": "21e01b7f",
        "colab": {
          "base_uri": "https://localhost:8080/"
        },
        "outputId": "91fac7f1-7ea1-4e75-fb18-7222a5bdb5b3"
      },
      "outputs": [
        {
          "output_type": "stream",
          "name": "stdout",
          "text": [
            "['ducati', 'yamaha', 'suzuki']\n"
          ]
        }
      ],
      "source": [
        "motorcycles[0] = 'ducati'\n",
        "print(motorcycles)"
      ]
    },
    {
      "cell_type": "markdown",
      "id": "752b3e77",
      "metadata": {
        "id": "752b3e77"
      },
      "source": [
        "### Adding Elements to a List\n",
        "\n",
        "You might want to add a new element to a list for many reasons. For example, you might want to make new aliens appear in a game, add new data to a visualization, or add new registered users to a website you’ve built. Python provides several ways to add new data to existing lists.\n",
        "\n",
        "#### Appending Elements to the End of a List\n",
        "\n",
        "The simplest way to add a new element to a list is to append the item to the list. When you append an item to a list, the new element is added to the end of the list. Using the same list we had in the previous example, we’ll add the new element 'ducati' to the end of the list:"
      ]
    },
    {
      "cell_type": "code",
      "execution_count": 10,
      "id": "73617b19",
      "metadata": {
        "id": "73617b19",
        "colab": {
          "base_uri": "https://localhost:8080/"
        },
        "outputId": "103d0d88-ed0e-4aa7-ff5e-9d65a6ec3601"
      },
      "outputs": [
        {
          "output_type": "stream",
          "name": "stdout",
          "text": [
            "['ducati', 'yamaha', 'suzuki', 'ducati']\n"
          ]
        }
      ],
      "source": [
        "motorcycles.append('ducati')\n",
        "print(motorcycles)"
      ]
    },
    {
      "cell_type": "markdown",
      "id": "60c9d8f0",
      "metadata": {
        "id": "60c9d8f0"
      },
      "source": [
        "The append() method makes it easy to build lists dynamically. For example, you can start with an empty list and then add items to the list using a series of append() calls. Using an empty list, let’s add the elements 'honda', 'yamaha', and 'suzuki' to the list:"
      ]
    },
    {
      "cell_type": "code",
      "execution_count": 11,
      "id": "3412e0e4",
      "metadata": {
        "id": "3412e0e4",
        "colab": {
          "base_uri": "https://localhost:8080/"
        },
        "outputId": "a8db0025-acd9-45b4-d2fc-ae8bf7c7d6c4"
      },
      "outputs": [
        {
          "output_type": "stream",
          "name": "stdout",
          "text": [
            "['honda', 'yamaha', 'suzuki']\n"
          ]
        }
      ],
      "source": [
        "motorcycles = []\n",
        "\n",
        "motorcycles.append('honda')\n",
        "motorcycles.append('yamaha')\n",
        "motorcycles.append('suzuki')\n",
        "\n",
        "print(motorcycles)"
      ]
    },
    {
      "cell_type": "markdown",
      "id": "0c89308a",
      "metadata": {
        "id": "0c89308a"
      },
      "source": [
        "### Inserting Elements into a List\n",
        "\n",
        "You can add a new element at any position in your list by using the insert() method. You do this by specifying the index of the new element and the value of the new item."
      ]
    },
    {
      "cell_type": "code",
      "execution_count": 12,
      "id": "1cddfaa8",
      "metadata": {
        "id": "1cddfaa8",
        "colab": {
          "base_uri": "https://localhost:8080/"
        },
        "outputId": "4d2eb5d8-1e61-4ceb-aa15-5dcedce158f0"
      },
      "outputs": [
        {
          "output_type": "stream",
          "name": "stdout",
          "text": [
            "['ducati', 'honda', 'yamaha', 'suzuki']\n"
          ]
        }
      ],
      "source": [
        "motorcycles = ['honda', 'yamaha', 'suzuki']\n",
        "motorcycles.insert(0, 'ducati')\n",
        "print(motorcycles)"
      ]
    },
    {
      "cell_type": "markdown",
      "id": "9f9f64eb",
      "metadata": {
        "id": "9f9f64eb"
      },
      "source": [
        "### Removing Elements from a List\n",
        "\n",
        "Often, you’ll want to remove an item or a set of items from a list. For example, when a player shoots down an alien from the sky, you’ll most likely want to remove it from the list of active aliens. Or when a user decides to cancel their account on a web application you created, you’ll want to remove that user from the list of active users. You can remove an item according to its position in the list or according to its value. Removing an Item Using the del Statement If you know the position of the item you want to remove from a list, you can use the del statement."
      ]
    },
    {
      "cell_type": "code",
      "execution_count": 13,
      "id": "73c1778b",
      "metadata": {
        "id": "73c1778b",
        "colab": {
          "base_uri": "https://localhost:8080/"
        },
        "outputId": "3ca00a10-5561-417d-94db-4cf5fa968c3a"
      },
      "outputs": [
        {
          "output_type": "stream",
          "name": "stdout",
          "text": [
            "['honda', 'yamaha', 'suzuki']\n",
            "['yamaha', 'suzuki']\n"
          ]
        }
      ],
      "source": [
        "motorcycles = ['honda', 'yamaha', 'suzuki']\n",
        "print(motorcycles)\n",
        "del motorcycles[0]\n",
        "print(motorcycles)"
      ]
    },
    {
      "cell_type": "code",
      "execution_count": 14,
      "id": "09f1c0fb",
      "metadata": {
        "id": "09f1c0fb",
        "colab": {
          "base_uri": "https://localhost:8080/"
        },
        "outputId": "9093925d-3c2d-4ccd-a2d8-ced746b994df"
      },
      "outputs": [
        {
          "output_type": "stream",
          "name": "stdout",
          "text": [
            "['yamaha']\n"
          ]
        }
      ],
      "source": [
        "del motorcycles[1]\n",
        "print(motorcycles)"
      ]
    },
    {
      "cell_type": "markdown",
      "id": "6c0d0908",
      "metadata": {
        "id": "6c0d0908"
      },
      "source": [
        "### Removing an Item Using the pop() Method\n",
        "\n",
        "Sometimes you’ll want to use the value of an item after you remove it from a list. For example, you might want to get the x and y position of an alien that was just shot down, so you can draw an explosion at that position. In a web application, you might want to remove a user from a list of active members and then add that user to a list of inactive members. The pop() method removes the last item in a list, but it lets you work with that item after removing it. The term pop comes from thinking of a list as a stack of items and popping one item off the top of the stack. In this analogy, the top of a stack corresponds to the end of a list."
      ]
    },
    {
      "cell_type": "code",
      "execution_count": 15,
      "id": "3b87f984",
      "metadata": {
        "id": "3b87f984",
        "colab": {
          "base_uri": "https://localhost:8080/"
        },
        "outputId": "e644c9c8-c2f0-4520-e1b3-9272ca95c81a"
      },
      "outputs": [
        {
          "output_type": "stream",
          "name": "stdout",
          "text": [
            "['honda', 'yamaha', 'suzuki']\n",
            "['honda', 'yamaha']\n",
            "suzuki\n"
          ]
        }
      ],
      "source": [
        "motorcycles = ['honda', 'yamaha', 'suzuki']\n",
        "print(motorcycles)\n",
        "popped_motorcycle = motorcycles.pop()\n",
        "print(motorcycles)\n",
        "print(popped_motorcycle)"
      ]
    },
    {
      "cell_type": "code",
      "execution_count": 16,
      "id": "90aef987",
      "metadata": {
        "id": "90aef987",
        "colab": {
          "base_uri": "https://localhost:8080/"
        },
        "outputId": "1ca5ae56-fa1b-44c4-d60b-1776e8a83ece"
      },
      "outputs": [
        {
          "output_type": "stream",
          "name": "stdout",
          "text": [
            "The last motorcycle I owned was a Suzuki.\n"
          ]
        }
      ],
      "source": [
        "motorcycles = ['honda', 'yamaha', 'suzuki']\n",
        "last_owned = motorcycles.pop()\n",
        "print(f\"The last motorcycle I owned was a {last_owned.title()}.\")"
      ]
    },
    {
      "cell_type": "markdown",
      "id": "8a62239b",
      "metadata": {
        "id": "8a62239b"
      },
      "source": [
        "### Popping Items from any Position in a List\n",
        "\n",
        "You can use pop() to remove an item from any position in a list by including the index of the item you want to remove in parentheses."
      ]
    },
    {
      "cell_type": "code",
      "execution_count": null,
      "id": "dae6e067",
      "metadata": {
        "id": "dae6e067"
      },
      "outputs": [],
      "source": [
        "motorcycles = ['honda', 'yamaha', 'suzuki']\n",
        "first_owned = motorcycles.pop(0)\n",
        "print(f\"The first motorcycle I owned was a {first_owned.title()}.\")"
      ]
    },
    {
      "cell_type": "code",
      "execution_count": 17,
      "id": "2717d48f",
      "metadata": {
        "id": "2717d48f",
        "colab": {
          "base_uri": "https://localhost:8080/"
        },
        "outputId": "8da0b56e-4b2f-4186-979a-73bf1d828f7d"
      },
      "outputs": [
        {
          "output_type": "stream",
          "name": "stdout",
          "text": [
            "['honda', 'yamaha']\n"
          ]
        }
      ],
      "source": [
        "print(motorcycles)"
      ]
    },
    {
      "cell_type": "markdown",
      "id": "ff95c7a9",
      "metadata": {
        "id": "ff95c7a9"
      },
      "source": [
        "### Removing an Item by Value\n",
        "\n",
        "Sometimes you won’t know the position of the value you want to remove from a list. If you only know the value of the item you want to remove, you can use the remove() method. For example, let’s say we want to remove the value 'ducati' from the list of motorcycles."
      ]
    },
    {
      "cell_type": "code",
      "execution_count": 18,
      "id": "0f5fc6e8",
      "metadata": {
        "id": "0f5fc6e8",
        "colab": {
          "base_uri": "https://localhost:8080/"
        },
        "outputId": "b1af24c9-2ef7-4eda-8686-bba28fd76583"
      },
      "outputs": [
        {
          "output_type": "stream",
          "name": "stdout",
          "text": [
            "['honda', 'yamaha', 'suzuki', 'ducati']\n",
            "['honda', 'yamaha', 'suzuki']\n"
          ]
        }
      ],
      "source": [
        "motorcycles = ['honda', 'yamaha', 'suzuki', 'ducati']\n",
        "print(motorcycles)\n",
        "motorcycles.remove('ducati')\n",
        "print(motorcycles)"
      ]
    },
    {
      "cell_type": "markdown",
      "id": "5f39f677",
      "metadata": {
        "id": "5f39f677"
      },
      "source": [
        "You can also use the remove() method to work with a value that’s being removed from a list. Let’s remove the value 'ducati' and print a reason for removing it from the list:"
      ]
    },
    {
      "cell_type": "code",
      "execution_count": 19,
      "id": "b6d29466",
      "metadata": {
        "id": "b6d29466",
        "colab": {
          "base_uri": "https://localhost:8080/"
        },
        "outputId": "65c23cd0-e2ba-405b-a1cf-00167ac63d7d"
      },
      "outputs": [
        {
          "output_type": "stream",
          "name": "stdout",
          "text": [
            "['honda', 'yamaha', 'suzuki', 'ducati']\n",
            "['honda', 'yamaha', 'suzuki']\n",
            "\n",
            "A Ducati is too expensive for me.\n"
          ]
        }
      ],
      "source": [
        "motorcycles = ['honda', 'yamaha', 'suzuki', 'ducati']\n",
        "print(motorcycles)\n",
        "too_expensive = 'ducati'\n",
        "motorcycles.remove(too_expensive)\n",
        "print(motorcycles)\n",
        "print(f\"\\nA {too_expensive.title()} is too expensive for me.\")"
      ]
    },
    {
      "cell_type": "markdown",
      "id": "b3bd6c77",
      "metadata": {
        "id": "b3bd6c77"
      },
      "source": [
        "## Organizing a List\n",
        "\n",
        "Often, your lists will be created in an unpredictable order, because you can’t always control the order in which your users provide their data. Although this is unavoidable in most circumstances, you’ll frequently want to present your information in a particular order. Sometimes you’ll want to preserve the original order of your list, and other times you’ll want to change the original order. Python provides a number of different ways to organize your lists, depending on the situation.\n",
        "\n",
        "### Sorting a List Permanently with the sort() Method\n",
        "\n",
        "Python’s sort() method makes it relatively easy to sort a list. Imagine we have a list of cars and want to change the order of the list to store them alphabetically. To keep the task simple, let’s assume that all the values in the list are lowercase."
      ]
    },
    {
      "cell_type": "code",
      "execution_count": 21,
      "id": "0f5a3803",
      "metadata": {
        "id": "0f5a3803",
        "colab": {
          "base_uri": "https://localhost:8080/"
        },
        "outputId": "6d74ec65-521a-4ed9-82aa-06cca2d0b3f9"
      },
      "outputs": [
        {
          "output_type": "stream",
          "name": "stdout",
          "text": [
            "['audi', 'bmw', 'subaru', 'toyota']\n"
          ]
        }
      ],
      "source": [
        "cars = ['bmw', 'audi', 'toyota', 'subaru']\n",
        "cars.sort()\n",
        "print(cars)"
      ]
    },
    {
      "cell_type": "markdown",
      "id": "74c9d82e",
      "metadata": {
        "id": "74c9d82e"
      },
      "source": [
        "You can also sort this list in reverse alphabetical order by passing the argument reverse=True to the sort() method. The following example sorts the list of cars in reverse alphabetical order:"
      ]
    },
    {
      "cell_type": "code",
      "execution_count": 22,
      "id": "879869f2",
      "metadata": {
        "id": "879869f2",
        "colab": {
          "base_uri": "https://localhost:8080/"
        },
        "outputId": "5a21a063-7249-422e-a232-0b1392b1f1d1"
      },
      "outputs": [
        {
          "output_type": "stream",
          "name": "stdout",
          "text": [
            "['toyota', 'subaru', 'bmw', 'audi']\n"
          ]
        }
      ],
      "source": [
        "cars = ['bmw', 'audi', 'toyota', 'subaru']\n",
        "cars.sort(reverse=True)\n",
        "print(cars)"
      ]
    },
    {
      "cell_type": "markdown",
      "id": "4243d34b",
      "metadata": {
        "id": "4243d34b"
      },
      "source": [
        "### Sorting a List Temporarily with the sorted() Function\n",
        "\n",
        "To maintain the original order of a list but present it in a sorted order, you can use the sorted() function. The sorted() function lets you display your list in a particular order but doesn’t affect the actual order of the list. Let’s try this function on the list of cars."
      ]
    },
    {
      "cell_type": "code",
      "execution_count": 23,
      "id": "1841cc1c",
      "metadata": {
        "id": "1841cc1c",
        "colab": {
          "base_uri": "https://localhost:8080/"
        },
        "outputId": "c557fbdb-b17d-4c2c-d248-dc8a60dedd96"
      },
      "outputs": [
        {
          "output_type": "stream",
          "name": "stdout",
          "text": [
            "Here is the original list:\n",
            "['bmw', 'audi', 'toyota', 'subaru']\n",
            "\n",
            "Here is the sorted list:\n",
            "['audi', 'bmw', 'subaru', 'toyota']\n",
            "\n",
            "Here is the original list again:\n",
            "['bmw', 'audi', 'toyota', 'subaru']\n"
          ]
        }
      ],
      "source": [
        "cars = ['bmw', 'audi', 'toyota', 'subaru']\n",
        "print(\"Here is the original list:\")\n",
        "print(cars)\n",
        "print(\"\\nHere is the sorted list:\")\n",
        "print(sorted(cars))\n",
        "print(\"\\nHere is the original list again:\")\n",
        "print(cars)"
      ]
    },
    {
      "cell_type": "markdown",
      "id": "b8695fd1",
      "metadata": {
        "id": "b8695fd1"
      },
      "source": [
        "### Printing a List in Reverse Order\n",
        "\n",
        "To reverse the original order of a list, you can use the reverse() method. If we originally stored the list of cars in chronological order according to when we owned them, we could easily rearrange the list into reverse chronological order:"
      ]
    },
    {
      "cell_type": "code",
      "execution_count": 25,
      "id": "cf421c29",
      "metadata": {
        "id": "cf421c29",
        "colab": {
          "base_uri": "https://localhost:8080/"
        },
        "outputId": "0f62817b-26b1-4f20-96bd-7ad1b722c0a5"
      },
      "outputs": [
        {
          "output_type": "stream",
          "name": "stdout",
          "text": [
            "['bmw', 'audi', 'toyota', 'subaru']\n",
            "['subaru', 'toyota', 'audi', 'bmw']\n"
          ]
        }
      ],
      "source": [
        "cars = ['bmw', 'audi', 'toyota', 'subaru']\n",
        "print(cars)\n",
        "cars.reverse()\n",
        "print(cars)"
      ]
    },
    {
      "cell_type": "markdown",
      "id": "35d1050b",
      "metadata": {
        "id": "35d1050b"
      },
      "source": [
        "### Finding the Length of a List\n",
        "\n",
        "You can quickly find the length of a list by using the len() function. The list in this example has four items, so its length is 4:"
      ]
    },
    {
      "cell_type": "code",
      "execution_count": 26,
      "id": "e8b2c3b5",
      "metadata": {
        "id": "e8b2c3b5",
        "colab": {
          "base_uri": "https://localhost:8080/"
        },
        "outputId": "d3b49029-b6c7-41f4-de40-f27ede35e052"
      },
      "outputs": [
        {
          "output_type": "execute_result",
          "data": {
            "text/plain": [
              "4"
            ]
          },
          "metadata": {},
          "execution_count": 26
        }
      ],
      "source": [
        "cars = ['bmw', 'audi', 'toyota', 'subaru']\n",
        "len(cars)"
      ]
    },
    {
      "cell_type": "markdown",
      "id": "84491744",
      "metadata": {
        "id": "84491744"
      },
      "source": [
        "## Avoiding Index Errors When Working with Lists\n",
        "\n",
        "One type of error is common to see when you’re working with lists for the first time. Let’s say you have a list with three items, and you ask for the fourth item:"
      ]
    },
    {
      "cell_type": "code",
      "execution_count": 28,
      "id": "99158caf",
      "metadata": {
        "id": "99158caf"
      },
      "outputs": [],
      "source": [
        "motorcycles = ['honda', 'yamaha', 'suzuki']\n",
        "# print(motorcycles[3])"
      ]
    },
    {
      "cell_type": "markdown",
      "id": "4f3c944f",
      "metadata": {
        "id": "4f3c944f"
      },
      "source": [
        "Python attempts to give you the item at index 3. But when it searches the list, no item in motorcycles has an index of 3. Because of the off-by-one nature of indexing in lists, this error is typical. People think the third item is item number 3, because they start counting at 1. But in Python the third item is number 2, because it starts indexing at 0.\n",
        "\n",
        "An index error means Python can’t find an item at the index you requested. If an index error occurs in your program, try adjusting the index you’re asking for by one. Then run the program again to see if the results are correct.\n",
        "\n",
        "Keep in mind that whenever you want to access the last item in a list you use the index -1. This will always work, even if your list has changed size since the last time you accessed it:"
      ]
    },
    {
      "cell_type": "code",
      "execution_count": 29,
      "id": "d4a29e5a",
      "metadata": {
        "id": "d4a29e5a",
        "colab": {
          "base_uri": "https://localhost:8080/"
        },
        "outputId": "3871474f-0c6f-4bf8-e8f9-d7f700ac9157"
      },
      "outputs": [
        {
          "output_type": "stream",
          "name": "stdout",
          "text": [
            "suzuki\n"
          ]
        }
      ],
      "source": [
        "motorcycles = ['honda', 'yamaha', 'suzuki']\n",
        "print(motorcycles[-1])"
      ]
    },
    {
      "cell_type": "code",
      "execution_count": 33,
      "id": "fbe98a0d",
      "metadata": {
        "id": "fbe98a0d"
      },
      "outputs": [],
      "source": [
        "motorcycles = []\n",
        "#print (motorcycles[-1])"
      ]
    }
  ],
  "metadata": {
    "kernelspec": {
      "display_name": "Python 3",
      "language": "python",
      "name": "python3"
    },
    "colab": {
      "provenance": [],
      "include_colab_link": true
    }
  },
  "nbformat": 4,
  "nbformat_minor": 5
}